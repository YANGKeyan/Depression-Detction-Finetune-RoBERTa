{
 "cells": [
  {
   "cell_type": "code",
   "execution_count": 3,
   "id": "1a62c05b-dc04-4d00-ad19-6994dc2566f2",
   "metadata": {},
   "outputs": [
    {
     "name": "stdout",
     "output_type": "stream",
     "text": [
      "Original train\n",
      "severe: 901\n",
      "moderate: 6019\n",
      "not depression: 1971\n",
      "all: 8891\n",
      "-------------------------------------\n",
      "Original train - without duplicates\n",
      "severe: 403\n",
      "moderate: 1401\n",
      "not depression: 916\n",
      "all: 2720\n",
      "-------------------------------------\n",
      "Original dev\n",
      "severe: 360\n",
      "moderate: 2306\n",
      "not depression: 1830\n",
      "all: 4496\n",
      "-------------------------------------\n",
      "Original dev - without duplicates\n",
      "severe: 360\n",
      "moderate: 2304\n",
      "not depression: 1817\n",
      "all: 4481\n",
      "-------------------------------------\n",
      "Train after preprocessing\n",
      "severe: 650\n",
      "moderate: 3101\n",
      "not depression: 2255\n",
      "all: 6006\n",
      "-------------------------------------\n",
      "Dev after preprocessing\n",
      "severe: 90\n",
      "moderate: 510\n",
      "not depression: 400\n",
      "all: 1000\n",
      "-------------------------------------\n"
     ]
    }
   ],
   "source": [
    "!python preprocess_dataset.py"
   ]
  },
  {
   "cell_type": "code",
   "execution_count": null,
   "id": "e8b6f4f0-3d35-4878-afa9-fefa53a56941",
   "metadata": {},
   "outputs": [],
   "source": []
  }
 ],
 "metadata": {
  "kernelspec": {
   "display_name": "Python 3 (ipykernel)",
   "language": "python",
   "name": "python3"
  },
  "language_info": {
   "codemirror_mode": {
    "name": "ipython",
    "version": 3
   },
   "file_extension": ".py",
   "mimetype": "text/x-python",
   "name": "python",
   "nbconvert_exporter": "python",
   "pygments_lexer": "ipython3",
   "version": "3.8.10"
  }
 },
 "nbformat": 4,
 "nbformat_minor": 5
}
